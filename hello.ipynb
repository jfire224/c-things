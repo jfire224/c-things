{
 "cells": [
  {
   "cell_type": "code",
   "execution_count": 17,
   "metadata": {},
   "outputs": [
    {
     "name": "stdout",
     "output_type": "stream",
     "text": [
      "2, 3\n"
     ]
    }
   ],
   "source": [
    "#include <stdio.h>\n",
    "\n",
    "typedef struct {\n",
    "    int first;\n",
    "    int second;\n",
    "} twoSum;\n",
    "\n",
    "int main() {\n",
    "    twoSum testSum;\n",
    "    testSum.first = 2;\n",
    "    testSum.second = 3;\n",
    "    printf(\"%d, %d\\n\", testSum.first, testSum.second);\n",
    "}"
   ]
  },
  {
   "cell_type": "code",
   "execution_count": 18,
   "metadata": {},
   "outputs": [
    {
     "name": "stdout",
     "output_type": "stream",
     "text": [
      "2, 3\n",
      "Testtesttest\n"
     ]
    }
   ],
   "source": [
    "#include <stdio.h>\n",
    "#include <stdlib.h>\n",
    "#include <math.h>\n",
    "#include <errno.h>\n",
    "\n",
    "typedef struct {\n",
    "    int first;\n",
    "    int second;\n",
    "} twoSum;\n",
    "\n",
    "void testFunction() {\n",
    "    printf(\"Testtesttest\\n\");\n",
    "}\n",
    "\n",
    "int main() {\n",
    "    twoSum testSum;\n",
    "    testSum.first = 2;\n",
    "    testSum.second = 3;\n",
    "    printf(\"%d, %d\\n\", testSum.first, testSum.second);\n",
    "    testFunction();\n",
    "}"
   ]
  }
 ],
 "metadata": {
  "kernelspec": {
   "display_name": "C",
   "language": "c",
   "name": "c"
  },
  "language_info": {
   "file_extension": ".c",
   "mimetype": "text/plain",
   "name": "c"
  }
 },
 "nbformat": 4,
 "nbformat_minor": 2
}
